{
 "cells": [
  {
   "cell_type": "code",
   "execution_count": 1,
   "id": "bf2264d5-b6d3-447c-a0c8-d96b153ee819",
   "metadata": {},
   "outputs": [],
   "source": [
    "# Data manipulation and analysis\n",
    "import pandas as pd  \n",
    "import numpy as np\n",
    "import os\n",
    "import swifter\n",
    "from tqdm import tqdm\n",
    "\n",
    "#==== Data visualization ==========\n",
    "import matplotlib.pyplot as plt \n",
    "import seaborn as sns\n",
    "\n",
    "#==== Regular expressions and string processing ====\n",
    "import re\n",
    "import string\n",
    "\n",
    "#==== Model persistence ====\n",
    "import pickle\n",
    "\n",
    "#==== Suppress warnings for cleaner output ====\n",
    "import warnings\n",
    "warnings.filterwarnings('ignore')\n",
    "\n",
    "# ==== NLP Libraries ====\n",
    "import nltk \n",
    "from nltk.corpus import stopwords\n",
    "from nltk.tokenize import word_tokenize, sent_tokenize\n",
    "from nltk.stem import WordNetLemmatizer\n",
    "\n",
    "# ==== Machine Learning Libraries ====\n",
    "from sklearn.model_selection import train_test_split\n",
    "from sklearn.feature_extraction.text import CountVectorizer, TfidfVectorizer\n",
    "from sklearn.naive_bayes import MultinomialNB\n",
    "from sklearn.linear_model import LogisticRegression\n",
    "from sklearn.pipeline import Pipeline\n",
    "from sklearn.metrics import classification_report, confusion_matrix, accuracy_score"
   ]
  },
  {
   "cell_type": "code",
   "execution_count": 2,
   "id": "c6cc2412-b51c-4e8c-8b2a-53ccc2c43151",
   "metadata": {},
   "outputs": [
    {
     "name": "stderr",
     "output_type": "stream",
     "text": [
      "[nltk_data] Downloading package punkt to\n",
      "[nltk_data]     C:\\Users\\faisa\\AppData\\Roaming\\nltk_data...\n",
      "[nltk_data]   Package punkt is already up-to-date!\n",
      "[nltk_data] Downloading package punkt_tab to\n",
      "[nltk_data]     C:\\Users\\faisa\\AppData\\Roaming\\nltk_data...\n",
      "[nltk_data]   Package punkt_tab is already up-to-date!\n",
      "[nltk_data] Downloading package stopwords to\n",
      "[nltk_data]     C:\\Users\\faisa\\AppData\\Roaming\\nltk_data...\n",
      "[nltk_data]   Package stopwords is already up-to-date!\n",
      "[nltk_data] Downloading package wordnet to\n",
      "[nltk_data]     C:\\Users\\faisa\\AppData\\Roaming\\nltk_data...\n",
      "[nltk_data]   Package wordnet is already up-to-date!\n"
     ]
    },
    {
     "data": {
      "text/plain": [
       "True"
      ]
     },
     "execution_count": 2,
     "metadata": {},
     "output_type": "execute_result"
    }
   ],
   "source": [
    "# Download essential NLTK resources (run once, comment out after first run)\n",
    "nltk.download('punkt')       # sentence + word tokenizer models\n",
    "nltk.download('punkt_tab')   # new in NLTK 3.9+, needed for word_tokenize\n",
    "nltk.download('stopwords')   # for stopword removal\n",
    "nltk.download('wordnet')     # for lemmatizer"
   ]
  },
  {
   "cell_type": "code",
   "execution_count": 3,
   "id": "57031144-4bb1-4e23-9611-09f0671a68d6",
   "metadata": {},
   "outputs": [],
   "source": [
    "# Set up plot aesthetics for better visuals\n",
    "plt.style.use('ggplot')\n",
    "sns.set(style='whitegrid')"
   ]
  },
  {
   "cell_type": "code",
   "execution_count": 4,
   "id": "c06d5075-3098-410c-8e24-8187958c700a",
   "metadata": {},
   "outputs": [],
   "source": [
    "def load_fasttext_data_sample(filepath, nrows=None):\n",
    "    \"\"\"\n",
    "    Load FastText .ft.txt file.\n",
    "    If nrows is provided, only read first nrows lines.\n",
    "    \"\"\"\n",
    "    data = []\n",
    "    with open(filepath, encoding='latin1') as f:\n",
    "        for i, line in enumerate(f):\n",
    "            if nrows is not None and i >= nrows:\n",
    "                break\n",
    "            label, text = line.strip().split(' ', 1)\n",
    "            data.append([label, text])\n",
    "    df = pd.DataFrame(data, columns=['label', 'text'])\n",
    "    df['sentiment'] = df['label'].map({'__label__1': 'negative', '__label__2': 'positive'})\n",
    "    return df   "
   ]
  },
  {
   "cell_type": "code",
   "execution_count": 5,
   "id": "ce26cda5-b13a-4d6f-bcaa-66573b6cf60f",
   "metadata": {},
   "outputs": [
    {
     "name": "stdout",
     "output_type": "stream",
     "text": [
      "🔹Successfully load the train and test data...\n",
      "(500000, 3)\n",
      "(400000, 3)\n"
     ]
    }
   ],
   "source": [
    "# Load 5 lakhs rows for training\n",
    "train_df = load_fasttext_data_sample('Data/train.ft.txt', nrows = 500000)\n",
    "test_df = load_fasttext_data_sample('Data/test.ft.txt')  \n",
    "\n",
    "print(\"🔹Successfully load the train and test data...\")\n",
    "\n",
    "print(train_df.shape) \n",
    "print(test_df.shape)"
   ]
  },
  {
   "cell_type": "code",
   "execution_count": 6,
   "id": "03d81447-432a-4c79-8eb4-c457eb9f84e5",
   "metadata": {},
   "outputs": [
    {
     "data": {
      "text/html": [
       "<div>\n",
       "<style scoped>\n",
       "    .dataframe tbody tr th:only-of-type {\n",
       "        vertical-align: middle;\n",
       "    }\n",
       "\n",
       "    .dataframe tbody tr th {\n",
       "        vertical-align: top;\n",
       "    }\n",
       "\n",
       "    .dataframe thead th {\n",
       "        text-align: right;\n",
       "    }\n",
       "</style>\n",
       "<table border=\"1\" class=\"dataframe\">\n",
       "  <thead>\n",
       "    <tr style=\"text-align: right;\">\n",
       "      <th></th>\n",
       "      <th>label</th>\n",
       "      <th>text</th>\n",
       "      <th>sentiment</th>\n",
       "    </tr>\n",
       "  </thead>\n",
       "  <tbody>\n",
       "    <tr>\n",
       "      <th>0</th>\n",
       "      <td>__label__2</td>\n",
       "      <td>Stuning even for the non-gamer: This sound tra...</td>\n",
       "      <td>positive</td>\n",
       "    </tr>\n",
       "    <tr>\n",
       "      <th>1</th>\n",
       "      <td>__label__2</td>\n",
       "      <td>The best soundtrack ever to anything.: I'm rea...</td>\n",
       "      <td>positive</td>\n",
       "    </tr>\n",
       "    <tr>\n",
       "      <th>2</th>\n",
       "      <td>__label__2</td>\n",
       "      <td>Amazing!: This soundtrack is my favorite music...</td>\n",
       "      <td>positive</td>\n",
       "    </tr>\n",
       "    <tr>\n",
       "      <th>3</th>\n",
       "      <td>__label__2</td>\n",
       "      <td>Excellent Soundtrack: I truly like this soundt...</td>\n",
       "      <td>positive</td>\n",
       "    </tr>\n",
       "    <tr>\n",
       "      <th>4</th>\n",
       "      <td>__label__2</td>\n",
       "      <td>Remember, Pull Your Jaw Off The Floor After He...</td>\n",
       "      <td>positive</td>\n",
       "    </tr>\n",
       "  </tbody>\n",
       "</table>\n",
       "</div>"
      ],
      "text/plain": [
       "        label                                               text sentiment\n",
       "0  __label__2  Stuning even for the non-gamer: This sound tra...  positive\n",
       "1  __label__2  The best soundtrack ever to anything.: I'm rea...  positive\n",
       "2  __label__2  Amazing!: This soundtrack is my favorite music...  positive\n",
       "3  __label__2  Excellent Soundtrack: I truly like this soundt...  positive\n",
       "4  __label__2  Remember, Pull Your Jaw Off The Floor After He...  positive"
      ]
     },
     "execution_count": 6,
     "metadata": {},
     "output_type": "execute_result"
    }
   ],
   "source": [
    "train_df.head()"
   ]
  },
  {
   "cell_type": "code",
   "execution_count": 7,
   "id": "aa936fe4-6e6f-4a3c-bb7a-1957ff127db4",
   "metadata": {},
   "outputs": [
    {
     "name": "stdout",
     "output_type": "stream",
     "text": [
      "         label                                               text sentiment\n",
      "6   __label__1  Buyer beware: This is a self-published book, a...  negative\n",
      "10  __label__1  The Worst!: A complete waste of time. Typograp...  negative\n"
     ]
    }
   ],
   "source": [
    "print(train_df[train_df['label'] == '__label__1'].head(2))"
   ]
  },
  {
   "cell_type": "code",
   "execution_count": 8,
   "id": "12186db1-6e55-42d2-81bf-ebcddf570d98",
   "metadata": {},
   "outputs": [
    {
     "name": "stdout",
     "output_type": "stream",
     "text": [
      "        label                                               text sentiment\n",
      "0  __label__2  Stuning even for the non-gamer: This sound tra...  positive\n",
      "1  __label__2  The best soundtrack ever to anything.: I'm rea...  positive\n"
     ]
    }
   ],
   "source": [
    "print(train_df[train_df['label'] == '__label__2'].head(2))"
   ]
  },
  {
   "cell_type": "code",
   "execution_count": 9,
   "id": "c13f8ea8-744e-4a66-a2fc-df10df33d8b5",
   "metadata": {},
   "outputs": [
    {
     "name": "stdout",
     "output_type": "stream",
     "text": [
      "         label                                               text sentiment\n",
      "6   __label__1  Incorrect Disc: I love the style of this, but ...  negative\n",
      "10  __label__2  Great book for travelling Europe: I currently ...  positive\n"
     ]
    }
   ],
   "source": [
    "print(test_df[train_df['label'] == '__label__1'].head(2))"
   ]
  },
  {
   "cell_type": "code",
   "execution_count": 10,
   "id": "9083893b-0239-4038-a907-a405665fc9af",
   "metadata": {},
   "outputs": [
    {
     "name": "stdout",
     "output_type": "stream",
     "text": [
      "Training data shape: (500000, 3)\n",
      "Test data shape: (400000, 3)\n"
     ]
    }
   ],
   "source": [
    "print(\"Training data shape:\", train_df.shape)\n",
    "print(\"Test data shape:\", test_df.shape)"
   ]
  },
  {
   "cell_type": "code",
   "execution_count": 11,
   "id": "a416bdf7-0e0d-41df-85c9-1e5afeb2bcf4",
   "metadata": {},
   "outputs": [
    {
     "name": "stdout",
     "output_type": "stream",
     "text": [
      "\n",
      "Missing values in training data:\n",
      "label        0\n",
      "text         0\n",
      "sentiment    0\n",
      "dtype: int64\n"
     ]
    }
   ],
   "source": [
    "print(\"\\nMissing values in training data:\")\n",
    "print(train_df.isnull().sum())"
   ]
  },
  {
   "cell_type": "code",
   "execution_count": 12,
   "id": "6fe337d5-4cc2-4c5e-8763-fc0940e9669c",
   "metadata": {},
   "outputs": [
    {
     "name": "stdout",
     "output_type": "stream",
     "text": [
      "\n",
      "Missing values in test data:\n",
      "label        0\n",
      "text         0\n",
      "sentiment    0\n",
      "dtype: int64\n"
     ]
    }
   ],
   "source": [
    "print(\"\\nMissing values in test data:\")\n",
    "print(test_df.isnull().sum())"
   ]
  },
  {
   "cell_type": "code",
   "execution_count": 13,
   "id": "7104db45-0657-427a-a684-6ed83b8af2be",
   "metadata": {},
   "outputs": [
    {
     "name": "stdout",
     "output_type": "stream",
     "text": [
      "\n",
      "Sentiment distribution in training data:\n",
      "sentiment\n",
      "positive    252782\n",
      "negative    247218\n",
      "Name: count, dtype: int64\n"
     ]
    }
   ],
   "source": [
    "# Sentiment distribution in training data\n",
    "print(\"\\nSentiment distribution in training data:\")\n",
    "print(train_df['sentiment'].value_counts())"
   ]
  },
  {
   "cell_type": "code",
   "execution_count": 14,
   "id": "e53b7066-fb04-414e-8759-5b578f330564",
   "metadata": {},
   "outputs": [
    {
     "data": {
      "image/png": "[encoded data removed]",
      "text/plain": [
       "<Figure size 1200x600 with 1 Axes>"
      ]
     },
     "metadata": {},
     "output_type": "display_data"
    }
   ],
   "source": [
    "import matplotlib.ticker as mticker\n",
    "\n",
    "plt.figure(figsize=(12, 6))\n",
    "ax = sns.countplot(\n",
    "    x='sentiment',\n",
    "    data=train_df,\n",
    "    palette={'negative': 'lightcoral', 'positive': 'lightgreen'}\n",
    ")\n",
    "\n",
    "for container in ax.containers:\n",
    "    ax.bar_label(container, fmt='%d', label_type='edge', padding=3)\n",
    "\n",
    "# Format y-axis to show millions\n",
    "ax.yaxis.set_major_formatter(mticker.FuncFormatter(lambda x, _: f'{x/1_000_000:.1f}M'))\n",
    "\n",
    "plt.title('Sentiment Distribution in Training Data')\n",
    "plt.xlabel('Sentiment')\n",
    "plt.ylabel('Count (in millions)')\n",
    "plt.show()"
   ]
  },
  {
   "cell_type": "code",
   "execution_count": 15,
   "id": "d84edaab-3501-40b3-a6b7-fe655f1aec04",
   "metadata": {},
   "outputs": [],
   "source": [
    "# Convert 'text' to string to avoid errors with NaN (float) values\n",
    "train_df['text'] = train_df['text'].astype(str)\n",
    "test_df['text'] = test_df['text'].astype(str)"
   ]
  },
  {
   "cell_type": "code",
   "execution_count": 16,
   "id": "fe7a46ea-9734-4ade-90e7-8459c0bca5bd",
   "metadata": {},
   "outputs": [],
   "source": [
    "# Explore text length distribution\n",
    "train_df['text_length'] = train_df['text'].apply(len)"
   ]
  },
  {
   "cell_type": "markdown",
   "id": "60225393-027a-4e72-a422-740b4b346c88",
   "metadata": {},
   "source": [
    "<em>***Text length***: Text length is simply the number of characters or words in a piece of text. In NLP</em>"
   ]
  },
  {
   "cell_type": "code",
   "execution_count": 17,
   "id": "7bfb4f84-1bed-4eae-860b-ab1d3c9b24c8",
   "metadata": {},
   "outputs": [
    {
     "data": {
      "image/png": "[encoded data removed]",
      "text/plain": [
       "<Figure size 1200x600 with 1 Axes>"
      ]
     },
     "metadata": {},
     "output_type": "display_data"
    }
   ],
   "source": [
    "plt.figure(figsize=(12, 6))\n",
    "sns.histplot(data=train_df, x = 'text_length', hue='sentiment', bins=50, kde=True) \n",
    "plt.title('Text length Distribution by Sentiment')\n",
    "plt.xlabel('Text length')\n",
    "plt.ylabel('No of Reviews')\n",
    "plt.show()"
   ]
  },
  {
   "cell_type": "markdown",
   "id": "f98d8c90-50af-4e97-b547-bf2062ce1a3a",
   "metadata": {},
   "source": [
    "<h3><em>Text preprocessing</em></h3>"
   ]
  },
  {
   "cell_type": "code",
   "execution_count": 18,
   "id": "fd9b353e-3210-4dec-8a17-a64a6be90e17",
   "metadata": {},
   "outputs": [],
   "source": [
    "# Preprocessing with nltk\n",
    "stop_words = set(stopwords.words('english'))\n",
    "lemmatizer = WordNetLemmatizer()\n",
    "HTML_RE = re.compile(r'<.*?>')\n",
    "DIGIT_RE = re.compile(r'\\d+')"
   ]
  },
  {
   "cell_type": "code",
   "execution_count": 33,
   "id": "fc4a9340-e590-424d-90c4-702245f3b7ea",
   "metadata": {},
   "outputs": [
    {
     "name": "stdout",
     "output_type": "stream",
     "text": [
      "🔹 Preprocessing train and test data using nltk...\n"
     ]
    }
   ],
   "source": [
    "def preprocess_text(text):\n",
    "    if not isinstance(text, str):\n",
    "        return []\n",
    "\n",
    "    # Remove HTML tags\n",
    "    text = re.sub(r'<.*?>', ' ', text)\n",
    "    text = text.lower()  # lowercase\n",
    "    text = re.sub(r'\\d+', '', text)  # remove numbers\n",
    "\n",
    "    # Tokenize using NLTK\n",
    "    tokens = word_tokenize(text)\n",
    "\n",
    "    # Keep only alphabetic tokens and remove stopwords\n",
    "    tokens = [word for word in tokens if word.isalpha() and word not in stop_words]\n",
    "\n",
    "    # Lemmatize\n",
    "    tokens = [lemmatizer.lemmatize(word) for word in tokens]\n",
    "\n",
    "    return tokens\n",
    "\n",
    "print(\"🔹 Preprocessing train and test data using nltk...\")"
   ]
  },
  {
   "cell_type": "code",
   "execution_count": 22,
   "id": "5478da75-5544-4171-83e9-d869afd7b999",
   "metadata": {},
   "outputs": [
    {
     "name": "stdout",
     "output_type": "stream",
     "text": [
      "🔹 Preprocessing train and test data...\n"
     ]
    },
    {
     "data": {
      "application/vnd.jupyter.widget-view+json": {
       "model_id": "f566275798b8493d9a7bd9f843ee435b",
       "version_major": 2,
       "version_minor": 0
      },
      "text/plain": [
       "Pandas Apply:   0%|          | 0/500000 [00:00<?, ?it/s]"
      ]
     },
     "metadata": {},
     "output_type": "display_data"
    }
   ],
   "source": [
    "# Parallel preprocessing with swifter\n",
    "print(\"🔹 Preprocessing train and test data...\")\n",
    "\n",
    "train_df[\"tokens\"] = train_df[\"text\"].swifter.apply(preprocess_text)"
   ]
  },
  {
   "cell_type": "code",
   "execution_count": 23,
   "id": "8f372357-f52e-4c87-8e3e-787b1db0195c",
   "metadata": {},
   "outputs": [
    {
     "data": {
      "application/vnd.jupyter.widget-view+json": {
       "model_id": "5175ee0963454baa8c44097319062bf1",
       "version_major": 2,
       "version_minor": 0
      },
      "text/plain": [
       "Pandas Apply:   0%|          | 0/400000 [00:00<?, ?it/s]"
      ]
     },
     "metadata": {},
     "output_type": "display_data"
    }
   ],
   "source": [
    "test_df[\"tokens\"]  = test_df[\"text\"].swifter.apply(preprocess_text)"
   ]
  },
  {
   "cell_type": "code",
   "execution_count": 25,
   "id": "2a5b84ad-4726-448b-abe3-df53c70bc7a9",
   "metadata": {},
   "outputs": [
    {
     "data": {
      "text/plain": [
       "83301"
      ]
     },
     "execution_count": 25,
     "metadata": {},
     "output_type": "execute_result"
    }
   ],
   "source": [
    "import gc\n",
    "\n",
    "gc.collect()"
   ]
  },
  {
   "cell_type": "code",
   "execution_count": 26,
   "id": "894bc384-32e6-456d-81b9-b14e7713748b",
   "metadata": {},
   "outputs": [],
   "source": [
    "all_tokens = pd.concat([train_df[\"tokens\"], test_df[\"tokens\"]], ignore_index=True)"
   ]
  },
  {
   "cell_type": "code",
   "execution_count": 27,
   "id": "0015a5ec-3681-4c93-b7cb-f07faf144d28",
   "metadata": {},
   "outputs": [
    {
     "name": "stdout",
     "output_type": "stream",
     "text": [
      " Word2Vec model trained & saved\n"
     ]
    }
   ],
   "source": [
    "from gensim.models import Word2Vec\n",
    "\n",
    "w2v_model = Word2Vec(\n",
    "    sentences = all_tokens,   # List of tokenized sentences\n",
    "    vector_size = 100,         # Dimensionality of embeddings\n",
    "    window = 5,                # Context window size\n",
    "    min_count = 5,             # Ignores words with frequency < 5\n",
    "    sg = 1,                    # Use skip-gram (sg=0 → CBOW)\n",
    "    workers = 6,               # Number of CPU cores to use\n",
    "    hs = 0,                    # Hierarchical softmax disabled\n",
    "    negative = 5               # Use negative sampling with 5 samples\n",
    ")\n",
    "\n",
    "w2v_model.save(\"word2vec_model.model\") \n",
    "print(\" Word2Vec model trained & saved\")"
   ]
  },
  {
   "cell_type": "code",
   "execution_count": 29,
   "id": "34f32343-7cf7-438d-a33a-cd7e3e60cac1",
   "metadata": {},
   "outputs": [],
   "source": [
    "# Extract vocabulary\n",
    "vocab_set = set(w2v_model.wv.index_to_key)\n",
    "\n",
    "def filter_tokens(tokens, vocab):\n",
    "    if not isinstance(tokens, list):\n",
    "        return []\n",
    "    return [w for w in tokens if w in vocab]"
   ]
  },
  {
   "cell_type": "code",
   "execution_count": 31,
   "id": "fde15404-8f52-499a-bac7-81b28a0f0680",
   "metadata": {},
   "outputs": [
    {
     "data": {
      "application/vnd.jupyter.widget-view+json": {
       "model_id": "be29f9587d6a4cbb9195393d684d7a9c",
       "version_major": 2,
       "version_minor": 0
      },
      "text/plain": [
       "Pandas Apply:   0%|          | 0/900000 [00:00<?, ?it/s]"
      ]
     },
     "metadata": {},
     "output_type": "display_data"
    }
   ],
   "source": [
    "all_tokens = all_tokens.swifter.apply(lambda x: filter_tokens(x, vocab_set))"
   ]
  },
  {
   "cell_type": "code",
   "execution_count": 35,
   "id": "1fbd40d9-5d92-4648-94ff-6b5bea8c0288",
   "metadata": {},
   "outputs": [
    {
     "data": {
      "application/vnd.jupyter.widget-view+json": {
       "model_id": "09899b736ba74df48640ce37c3f75fee",
       "version_major": 2,
       "version_minor": 0
      },
      "text/plain": [
       "Pandas Apply:   0%|          | 0/900000 [00:00<?, ?it/s]"
      ]
     },
     "metadata": {},
     "output_type": "display_data"
    }
   ],
   "source": [
    "# Fit TF-IDF\n",
    "all_texts = all_tokens.swifter.apply(lambda x: \" \".join(x)) # Convert list of tokens → space-separated string\n",
    "\n",
    "tfidf = TfidfVectorizer(min_df=2)\n",
    "tfidf.fit(all_texts)  # now it works\n",
    "word2weight = dict(zip(tfidf.get_feature_names_out(), tfidf.idf_))\n",
    "\n",
    "# Weighted document vector\n",
    "def document_vector_weighted(tokens, w2v_model, word2weight):\n",
    "    vectors = []\n",
    "    weights = []\n",
    "    for word in tokens:\n",
    "        if word in w2v_model.wv and word in word2weight:\n",
    "            vectors.append(w2v_model.wv[word])\n",
    "            weights.append(word2weight[word])\n",
    "    if vectors:\n",
    "        return np.average(vectors, axis=0, weights=weights)\n",
    "    else:\n",
    "        return np.zeros(w2v_model.vector_size, dtype=np.float32)"
   ]
  },
  {
   "cell_type": "code",
   "execution_count": 36,
   "id": "a51c9a1e-50c1-48b1-b9a9-72ad3c59ab9d",
   "metadata": {},
   "outputs": [
    {
     "data": {
      "application/vnd.jupyter.widget-view+json": {
       "model_id": "37dea359448f4be0a0398e55254db439",
       "version_major": 2,
       "version_minor": 0
      },
      "text/plain": [
       "Pandas Apply:   0%|          | 0/900000 [00:00<?, ?it/s]"
      ]
     },
     "metadata": {},
     "output_type": "display_data"
    }
   ],
   "source": [
    "# Convert all reviews to weighted vectors\n",
    "amazon_vectors = np.vstack(\n",
    "    all_tokens.swifter.apply(lambda x: document_vector_weighted(x, w2v_model, word2weight))\n",
    ")"
   ]
  },
  {
   "cell_type": "code",
   "execution_count": 38,
   "id": "64383200-3e98-4c0f-bbd2-f3d9025a6c9b",
   "metadata": {},
   "outputs": [
    {
     "name": "stdout",
     "output_type": "stream",
     "text": [
      "Vector shape: (900000, 100)\n"
     ]
    }
   ],
   "source": [
    "print(\"Vector shape:\", amazon_vectors.shape)"
   ]
  },
  {
   "cell_type": "markdown",
   "id": "e4b90aa6-dcad-408c-86e9-5e5dc518f9e0",
   "metadata": {},
   "source": [
    "<h3><em>Ready for ML</em></h3>"
   ]
  },
  {
   "cell_type": "code",
   "execution_count": 40,
   "id": "e0e17624-a706-4881-abc4-801298d40710",
   "metadata": {},
   "outputs": [
    {
     "name": "stdout",
     "output_type": "stream",
     "text": [
      "0\n"
     ]
    }
   ],
   "source": [
    "print(train_df['sentiment'].isnull().sum())"
   ]
  },
  {
   "cell_type": "code",
   "execution_count": 43,
   "id": "faa816ed-42c2-48e1-9630-3cdb71554baa",
   "metadata": {},
   "outputs": [
    {
     "name": "stdout",
     "output_type": "stream",
     "text": [
      "\n",
      "Sentiment distribution in training data:\n",
      "sentiment\n",
      "positive    252782\n",
      "negative    247218\n",
      "Name: count, dtype: int64\n"
     ]
    }
   ],
   "source": [
    "print(\"\\nSentiment distribution in training data:\")\n",
    "print(train_df['sentiment'].value_counts())"
   ]
  },
  {
   "cell_type": "code",
   "execution_count": 44,
   "id": "12ac95d5-3cc9-4d5a-93f0-28699f139e20",
   "metadata": {},
   "outputs": [],
   "source": [
    "train_df[\"sentiment\"] = train_df[\"sentiment\"].map({\"positive\": 1, \"negative\": 0})"
   ]
  },
  {
   "cell_type": "code",
   "execution_count": 45,
   "id": "48c6bd96-2bc5-4c48-a6a1-bf4f6b2fded1",
   "metadata": {},
   "outputs": [],
   "source": [
    "test_df[\"sentiment\"] = test_df[\"sentiment\"].map({\"positive\": 1, \"negative\": 0})"
   ]
  },
  {
   "cell_type": "code",
   "execution_count": 47,
   "id": "deee6b64-2a2e-4f3e-9201-759cc51396d2",
   "metadata": {},
   "outputs": [
    {
     "data": {
      "application/vnd.jupyter.widget-view+json": {
       "model_id": "0a31d7af80aa43a4b62e88bf086f2a88",
       "version_major": 2,
       "version_minor": 0
      },
      "text/plain": [
       "Pandas Apply:   0%|          | 0/500000 [00:00<?, ?it/s]"
      ]
     },
     "metadata": {},
     "output_type": "display_data"
    }
   ],
   "source": [
    "train_vectors = np.vstack(train_df['tokens'].swifter.apply(lambda x: document_vector_weighted(x, w2v_model, word2weight)))"
   ]
  },
  {
   "cell_type": "code",
   "execution_count": 48,
   "id": "aa9f451f-a866-4222-99da-d67f38e532ae",
   "metadata": {},
   "outputs": [],
   "source": [
    "X_train, X_test, y_train, y_test = train_test_split(\n",
    "    train_vectors,\n",
    "    train_df[\"sentiment\"],\n",
    "    test_size=0.2,\n",
    "    stratify=train_df[\"sentiment\"],\n",
    "    random_state=42\n",
    ")"
   ]
  },
  {
   "cell_type": "code",
   "execution_count": 50,
   "id": "eb27ae9d-fc57-4993-9a19-42f9af8f78c2",
   "metadata": {},
   "outputs": [],
   "source": [
    "from sklearn.linear_model import LogisticRegressionCV\n",
    "\n",
    "lr_model = LogisticRegressionCV(\n",
    "    Cs=10,                # number of C values to test\n",
    "    cv=5,                 # 5-fold cross-validation\n",
    "    penalty='l2',         # standard L2 regularization\n",
    "    solver='liblinear',   # good for small/medium datasets\n",
    "    scoring='f1',         # optimizes based on F1-score instead of accuracy\n",
    "    max_iter=1000,\n",
    "    n_jobs=-1,            # use all CPU cores for speed\n",
    "    refit=True\n",
    ")"
   ]
  },
  {
   "cell_type": "code",
   "execution_count": 51,
   "id": "554be2aa-a6c6-4e9f-a0c2-ca4cd0087b74",
   "metadata": {},
   "outputs": [
    {
     "data": {
      "text/html": [
       "<style>#sk-container-id-1 {\n",
       "  /* Definition of color scheme common for light and dark mode */\n",
       "  --sklearn-color-text: black;\n",
       "  --sklearn-color-line: gray;\n",
       "  /* Definition of color scheme for unfitted estimators */\n",
       "  --sklearn-color-unfitted-level-0: #fff5e6;\n",
       "  --sklearn-color-unfitted-level-1: #f6e4d2;\n",
       "  --sklearn-color-unfitted-level-2: #ffe0b3;\n",
       "  --sklearn-color-unfitted-level-3: chocolate;\n",
       "  /* Definition of color scheme for fitted estimators */\n",
       "  --sklearn-color-fitted-level-0: #f0f8ff;\n",
       "  --sklearn-color-fitted-level-1: #d4ebff;\n",
       "  --sklearn-color-fitted-level-2: #b3dbfd;\n",
       "  --sklearn-color-fitted-level-3: cornflowerblue;\n",
       "\n",
       "  /* Specific color for light theme */\n",
       "  --sklearn-color-text-on-default-background: var(--sg-text-color, var(--theme-code-foreground, var(--jp-content-font-color1, black)));\n",
       "  --sklearn-color-background: var(--sg-background-color, var(--theme-background, var(--jp-layout-color0, white)));\n",
       "  --sklearn-color-border-box: var(--sg-text-color, var(--theme-code-foreground, var(--jp-content-font-color1, black)));\n",
       "  --sklearn-color-icon: #696969;\n",
       "\n",
       "  @media (prefers-color-scheme: dark) {\n",
       "    /* Redefinition of color scheme for dark theme */\n",
       "    --sklearn-color-text-on-default-background: var(--sg-text-color, var(--theme-code-foreground, var(--jp-content-font-color1, white)));\n",
       "    --sklearn-color-background: var(--sg-background-color, var(--theme-background, var(--jp-layout-color0, #111)));\n",
       "    --sklearn-color-border-box: var(--sg-text-color, var(--theme-code-foreground, var(--jp-content-font-color1, white)));\n",
       "    --sklearn-color-icon: #878787;\n",
       "  }\n",
       "}\n",
       "\n",
       "#sk-container-id-1 {\n",
       "  color: var(--sklearn-color-text);\n",
       "}\n",
       "\n",
       "#sk-container-id-1 pre {\n",
       "  padding: 0;\n",
       "}\n",
       "\n",
       "#sk-container-id-1 input.sk-hidden--visually {\n",
       "  border: 0;\n",
       "  clip: rect(1px 1px 1px 1px);\n",
       "  clip: rect(1px, 1px, 1px, 1px);\n",
       "  height: 1px;\n",
       "  margin: -1px;\n",
       "  overflow: hidden;\n",
       "  padding: 0;\n",
       "  position: absolute;\n",
       "  width: 1px;\n",
       "}\n",
       "\n",
       "#sk-container-id-1 div.sk-dashed-wrapped {\n",
       "  border: 1px dashed var(--sklearn-color-line);\n",
       "  margin: 0 0.4em 0.5em 0.4em;\n",
       "  box-sizing: border-box;\n",
       "  padding-bottom: 0.4em;\n",
       "  background-color: var(--sklearn-color-background);\n",
       "}\n",
       "\n",
       "#sk-container-id-1 div.sk-container {\n",
       "  /* jupyter's `normalize.less` sets `[hidden] { display: none; }`\n",
       "     but bootstrap.min.css set `[hidden] { display: none !important; }`\n",
       "     so we also need the `!important` here to be able to override the\n",
       "     default hidden behavior on the sphinx rendered scikit-learn.org.\n",
       "     See: https://github.com/scikit-learn/scikit-learn/issues/21755 */\n",
       "  display: inline-block !important;\n",
       "  position: relative;\n",
       "}\n",
       "\n",
       "#sk-container-id-1 div.sk-text-repr-fallback {\n",
       "  display: none;\n",
       "}\n",
       "\n",
       "div.sk-parallel-item,\n",
       "div.sk-serial,\n",
       "div.sk-item {\n",
       "  /* draw centered vertical line to link estimators */\n",
       "  background-image: linear-gradient(var(--sklearn-color-text-on-default-background), var(--sklearn-color-text-on-default-background));\n",
       "  background-size: 2px 100%;\n",
       "  background-repeat: no-repeat;\n",
       "  background-position: center center;\n",
       "}\n",
       "\n",
       "/* Parallel-specific style estimator block */\n",
       "\n",
       "#sk-container-id-1 div.sk-parallel-item::after {\n",
       "  content: \"\";\n",
       "  width: 100%;\n",
       "  border-bottom: 2px solid var(--sklearn-color-text-on-default-background);\n",
       "  flex-grow: 1;\n",
       "}\n",
       "\n",
       "#sk-container-id-1 div.sk-parallel {\n",
       "  display: flex;\n",
       "  align-items: stretch;\n",
       "  justify-content: center;\n",
       "  background-color: var(--sklearn-color-background);\n",
       "  position: relative;\n",
       "}\n",
       "\n",
       "#sk-container-id-1 div.sk-parallel-item {\n",
       "  display: flex;\n",
       "  flex-direction: column;\n",
       "}\n",
       "\n",
       "#sk-container-id-1 div.sk-parallel-item:first-child::after {\n",
       "  align-self: flex-end;\n",
       "  width: 50%;\n",
       "}\n",
       "\n",
       "#sk-container-id-1 div.sk-parallel-item:last-child::after {\n",
       "  align-self: flex-start;\n",
       "  width: 50%;\n",
       "}\n",
       "\n",
       "#sk-container-id-1 div.sk-parallel-item:only-child::after {\n",
       "  width: 0;\n",
       "}\n",
       "\n",
       "/* Serial-specific style estimator block */\n",
       "\n",
       "#sk-container-id-1 div.sk-serial {\n",
       "  display: flex;\n",
       "  flex-direction: column;\n",
       "  align-items: center;\n",
       "  background-color: var(--sklearn-color-background);\n",
       "  padding-right: 1em;\n",
       "  padding-left: 1em;\n",
       "}\n",
       "\n",
       "\n",
       "/* Toggleable style: style used for estimator/Pipeline/ColumnTransformer box that is\n",
       "clickable and can be expanded/collapsed.\n",
       "- Pipeline and ColumnTransformer use this feature and define the default style\n",
       "- Estimators will overwrite some part of the style using the `sk-estimator` class\n",
       "*/\n",
       "\n",
       "/* Pipeline and ColumnTransformer style (default) */\n",
       "\n",
       "#sk-container-id-1 div.sk-toggleable {\n",
       "  /* Default theme specific background. It is overwritten whether we have a\n",
       "  specific estimator or a Pipeline/ColumnTransformer */\n",
       "  background-color: var(--sklearn-color-background);\n",
       "}\n",
       "\n",
       "/* Toggleable label */\n",
       "#sk-container-id-1 label.sk-toggleable__label {\n",
       "  cursor: pointer;\n",
       "  display: block;\n",
       "  width: 100%;\n",
       "  margin-bottom: 0;\n",
       "  padding: 0.5em;\n",
       "  box-sizing: border-box;\n",
       "  text-align: center;\n",
       "}\n",
       "\n",
       "#sk-container-id-1 label.sk-toggleable__label-arrow:before {\n",
       "  /* Arrow on the left of the label */\n",
       "  content: \"▸\";\n",
       "  float: left;\n",
       "  margin-right: 0.25em;\n",
       "  color: var(--sklearn-color-icon);\n",
       "}\n",
       "\n",
       "#sk-container-id-1 label.sk-toggleable__label-arrow:hover:before {\n",
       "  color: var(--sklearn-color-text);\n",
       "}\n",
       "\n",
       "/* Toggleable content - dropdown */\n",
       "\n",
       "#sk-container-id-1 div.sk-toggleable__content {\n",
       "  max-height: 0;\n",
       "  max-width: 0;\n",
       "  overflow: hidden;\n",
       "  text-align: left;\n",
       "  /* unfitted */\n",
       "  background-color: var(--sklearn-color-unfitted-level-0);\n",
       "}\n",
       "\n",
       "#sk-container-id-1 div.sk-toggleable__content.fitted {\n",
       "  /* fitted */\n",
       "  background-color: var(--sklearn-color-fitted-level-0);\n",
       "}\n",
       "\n",
       "#sk-container-id-1 div.sk-toggleable__content pre {\n",
       "  margin: 0.2em;\n",
       "  border-radius: 0.25em;\n",
       "  color: var(--sklearn-color-text);\n",
       "  /* unfitted */\n",
       "  background-color: var(--sklearn-color-unfitted-level-0);\n",
       "}\n",
       "\n",
       "#sk-container-id-1 div.sk-toggleable__content.fitted pre {\n",
       "  /* unfitted */\n",
       "  background-color: var(--sklearn-color-fitted-level-0);\n",
       "}\n",
       "\n",
       "#sk-container-id-1 input.sk-toggleable__control:checked~div.sk-toggleable__content {\n",
       "  /* Expand drop-down */\n",
       "  max-height: 200px;\n",
       "  max-width: 100%;\n",
       "  overflow: auto;\n",
       "}\n",
       "\n",
       "#sk-container-id-1 input.sk-toggleable__control:checked~label.sk-toggleable__label-arrow:before {\n",
       "  content: \"▾\";\n",
       "}\n",
       "\n",
       "/* Pipeline/ColumnTransformer-specific style */\n",
       "\n",
       "#sk-container-id-1 div.sk-label input.sk-toggleable__control:checked~label.sk-toggleable__label {\n",
       "  color: var(--sklearn-color-text);\n",
       "  background-color: var(--sklearn-color-unfitted-level-2);\n",
       "}\n",
       "\n",
       "#sk-container-id-1 div.sk-label.fitted input.sk-toggleable__control:checked~label.sk-toggleable__label {\n",
       "  background-color: var(--sklearn-color-fitted-level-2);\n",
       "}\n",
       "\n",
       "/* Estimator-specific style */\n",
       "\n",
       "/* Colorize estimator box */\n",
       "#sk-container-id-1 div.sk-estimator input.sk-toggleable__control:checked~label.sk-toggleable__label {\n",
       "  /* unfitted */\n",
       "  background-color: var(--sklearn-color-unfitted-level-2);\n",
       "}\n",
       "\n",
       "#sk-container-id-1 div.sk-estimator.fitted input.sk-toggleable__control:checked~label.sk-toggleable__label {\n",
       "  /* fitted */\n",
       "  background-color: var(--sklearn-color-fitted-level-2);\n",
       "}\n",
       "\n",
       "#sk-container-id-1 div.sk-label label.sk-toggleable__label,\n",
       "#sk-container-id-1 div.sk-label label {\n",
       "  /* The background is the default theme color */\n",
       "  color: var(--sklearn-color-text-on-default-background);\n",
       "}\n",
       "\n",
       "/* On hover, darken the color of the background */\n",
       "#sk-container-id-1 div.sk-label:hover label.sk-toggleable__label {\n",
       "  color: var(--sklearn-color-text);\n",
       "  background-color: var(--sklearn-color-unfitted-level-2);\n",
       "}\n",
       "\n",
       "/* Label box, darken color on hover, fitted */\n",
       "#sk-container-id-1 div.sk-label.fitted:hover label.sk-toggleable__label.fitted {\n",
       "  color: var(--sklearn-color-text);\n",
       "  background-color: var(--sklearn-color-fitted-level-2);\n",
       "}\n",
       "\n",
       "/* Estimator label */\n",
       "\n",
       "#sk-container-id-1 div.sk-label label {\n",
       "  font-family: monospace;\n",
       "  font-weight: bold;\n",
       "  display: inline-block;\n",
       "  line-height: 1.2em;\n",
       "}\n",
       "\n",
       "#sk-container-id-1 div.sk-label-container {\n",
       "  text-align: center;\n",
       "}\n",
       "\n",
       "/* Estimator-specific */\n",
       "#sk-container-id-1 div.sk-estimator {\n",
       "  font-family: monospace;\n",
       "  border: 1px dotted var(--sklearn-color-border-box);\n",
       "  border-radius: 0.25em;\n",
       "  box-sizing: border-box;\n",
       "  margin-bottom: 0.5em;\n",
       "  /* unfitted */\n",
       "  background-color: var(--sklearn-color-unfitted-level-0);\n",
       "}\n",
       "\n",
       "#sk-container-id-1 div.sk-estimator.fitted {\n",
       "  /* fitted */\n",
       "  background-color: var(--sklearn-color-fitted-level-0);\n",
       "}\n",
       "\n",
       "/* on hover */\n",
       "#sk-container-id-1 div.sk-estimator:hover {\n",
       "  /* unfitted */\n",
       "  background-color: var(--sklearn-color-unfitted-level-2);\n",
       "}\n",
       "\n",
       "#sk-container-id-1 div.sk-estimator.fitted:hover {\n",
       "  /* fitted */\n",
       "  background-color: var(--sklearn-color-fitted-level-2);\n",
       "}\n",
       "\n",
       "/* Specification for estimator info (e.g. \"i\" and \"?\") */\n",
       "\n",
       "/* Common style for \"i\" and \"?\" */\n",
       "\n",
       ".sk-estimator-doc-link,\n",
       "a:link.sk-estimator-doc-link,\n",
       "a:visited.sk-estimator-doc-link {\n",
       "  float: right;\n",
       "  font-size: smaller;\n",
       "  line-height: 1em;\n",
       "  font-family: monospace;\n",
       "  background-color: var(--sklearn-color-background);\n",
       "  border-radius: 1em;\n",
       "  height: 1em;\n",
       "  width: 1em;\n",
       "  text-decoration: none !important;\n",
       "  margin-left: 1ex;\n",
       "  /* unfitted */\n",
       "  border: var(--sklearn-color-unfitted-level-1) 1pt solid;\n",
       "  color: var(--sklearn-color-unfitted-level-1);\n",
       "}\n",
       "\n",
       ".sk-estimator-doc-link.fitted,\n",
       "a:link.sk-estimator-doc-link.fitted,\n",
       "a:visited.sk-estimator-doc-link.fitted {\n",
       "  /* fitted */\n",
       "  border: var(--sklearn-color-fitted-level-1) 1pt solid;\n",
       "  color: var(--sklearn-color-fitted-level-1);\n",
       "}\n",
       "\n",
       "/* On hover */\n",
       "div.sk-estimator:hover .sk-estimator-doc-link:hover,\n",
       ".sk-estimator-doc-link:hover,\n",
       "div.sk-label-container:hover .sk-estimator-doc-link:hover,\n",
       ".sk-estimator-doc-link:hover {\n",
       "  /* unfitted */\n",
       "  background-color: var(--sklearn-color-unfitted-level-3);\n",
       "  color: var(--sklearn-color-background);\n",
       "  text-decoration: none;\n",
       "}\n",
       "\n",
       "div.sk-estimator.fitted:hover .sk-estimator-doc-link.fitted:hover,\n",
       ".sk-estimator-doc-link.fitted:hover,\n",
       "div.sk-label-container:hover .sk-estimator-doc-link.fitted:hover,\n",
       ".sk-estimator-doc-link.fitted:hover {\n",
       "  /* fitted */\n",
       "  background-color: var(--sklearn-color-fitted-level-3);\n",
       "  color: var(--sklearn-color-background);\n",
       "  text-decoration: none;\n",
       "}\n",
       "\n",
       "/* Span, style for the box shown on hovering the info icon */\n",
       ".sk-estimator-doc-link span {\n",
       "  display: none;\n",
       "  z-index: 9999;\n",
       "  position: relative;\n",
       "  font-weight: normal;\n",
       "  right: .2ex;\n",
       "  padding: .5ex;\n",
       "  margin: .5ex;\n",
       "  width: min-content;\n",
       "  min-width: 20ex;\n",
       "  max-width: 50ex;\n",
       "  color: var(--sklearn-color-text);\n",
       "  box-shadow: 2pt 2pt 4pt #999;\n",
       "  /* unfitted */\n",
       "  background: var(--sklearn-color-unfitted-level-0);\n",
       "  border: .5pt solid var(--sklearn-color-unfitted-level-3);\n",
       "}\n",
       "\n",
       ".sk-estimator-doc-link.fitted span {\n",
       "  /* fitted */\n",
       "  background: var(--sklearn-color-fitted-level-0);\n",
       "  border: var(--sklearn-color-fitted-level-3);\n",
       "}\n",
       "\n",
       ".sk-estimator-doc-link:hover span {\n",
       "  display: block;\n",
       "}\n",
       "\n",
       "/* \"?\"-specific style due to the `<a>` HTML tag */\n",
       "\n",
       "#sk-container-id-1 a.estimator_doc_link {\n",
       "  float: right;\n",
       "  font-size: 1rem;\n",
       "  line-height: 1em;\n",
       "  font-family: monospace;\n",
       "  background-color: var(--sklearn-color-background);\n",
       "  border-radius: 1rem;\n",
       "  height: 1rem;\n",
       "  width: 1rem;\n",
       "  text-decoration: none;\n",
       "  /* unfitted */\n",
       "  color: var(--sklearn-color-unfitted-level-1);\n",
       "  border: var(--sklearn-color-unfitted-level-1) 1pt solid;\n",
       "}\n",
       "\n",
       "#sk-container-id-1 a.estimator_doc_link.fitted {\n",
       "  /* fitted */\n",
       "  border: var(--sklearn-color-fitted-level-1) 1pt solid;\n",
       "  color: var(--sklearn-color-fitted-level-1);\n",
       "}\n",
       "\n",
       "/* On hover */\n",
       "#sk-container-id-1 a.estimator_doc_link:hover {\n",
       "  /* unfitted */\n",
       "  background-color: var(--sklearn-color-unfitted-level-3);\n",
       "  color: var(--sklearn-color-background);\n",
       "  text-decoration: none;\n",
       "}\n",
       "\n",
       "#sk-container-id-1 a.estimator_doc_link.fitted:hover {\n",
       "  /* fitted */\n",
       "  background-color: var(--sklearn-color-fitted-level-3);\n",
       "}\n",
       "</style><div id=\"sk-container-id-1\" class=\"sk-top-container\"><div class=\"sk-text-repr-fallback\"><pre>LogisticRegressionCV(cv=5, max_iter=1000, n_jobs=-1, scoring=&#x27;f1&#x27;,\n",
       "                     solver=&#x27;liblinear&#x27;)</pre><b>In a Jupyter environment, please rerun this cell to show the HTML representation or trust the notebook. <br />On GitHub, the HTML representation is unable to render, please try loading this page with nbviewer.org.</b></div><div class=\"sk-container\" hidden><div class=\"sk-item\"><div class=\"sk-estimator fitted sk-toggleable\"><input class=\"sk-toggleable__control sk-hidden--visually\" id=\"sk-estimator-id-1\" type=\"checkbox\" checked><label for=\"sk-estimator-id-1\" class=\"sk-toggleable__label fitted sk-toggleable__label-arrow fitted\">&nbsp;&nbsp;LogisticRegressionCV<a class=\"sk-estimator-doc-link fitted\" rel=\"noreferrer\" target=\"_blank\" href=\"https://scikit-learn.org/1.5/modules/generated/sklearn.linear_model.LogisticRegressionCV.html\">?<span>Documentation for LogisticRegressionCV</span></a><span class=\"sk-estimator-doc-link fitted\">i<span>Fitted</span></span></label><div class=\"sk-toggleable__content fitted\"><pre>LogisticRegressionCV(cv=5, max_iter=1000, n_jobs=-1, scoring=&#x27;f1&#x27;,\n",
       "                     solver=&#x27;liblinear&#x27;)</pre></div> </div></div></div></div>"
      ],
      "text/plain": [
       "LogisticRegressionCV(cv=5, max_iter=1000, n_jobs=-1, scoring='f1',\n",
       "                     solver='liblinear')"
      ]
     },
     "execution_count": 51,
     "metadata": {},
     "output_type": "execute_result"
    }
   ],
   "source": [
    "lr_model.fit(X_train, y_train)"
   ]
  },
  {
   "cell_type": "code",
   "execution_count": 52,
   "id": "1e241383-6cfb-435a-97c3-d82b4643101b",
   "metadata": {},
   "outputs": [],
   "source": [
    "y_predd = lr_model.predict(X_test)"
   ]
  },
  {
   "cell_type": "code",
   "execution_count": 65,
   "id": "348e217b-8e9b-4b22-8280-7fb1ffd133a7",
   "metadata": {},
   "outputs": [
    {
     "name": "stdout",
     "output_type": "stream",
     "text": [
      "Accuracy: 85.74%\n",
      "\n",
      "Confusion Matrix:\n",
      " [[42118  7326]\n",
      " [ 6935 43621]]\n",
      "\n",
      "Classification Report:\n",
      "               precision    recall  f1-score   support\n",
      "\n",
      "           0       0.86      0.85      0.86     49444\n",
      "           1       0.86      0.86      0.86     50556\n",
      "\n",
      "    accuracy                           0.86    100000\n",
      "   macro avg       0.86      0.86      0.86    100000\n",
      "weighted avg       0.86      0.86      0.86    100000\n",
      "\n"
     ]
    },
    {
     "data": {
      "text/plain": [
       "Text(0.5, 1.0, 'Confusion Matrix')"
      ]
     },
     "execution_count": 65,
     "metadata": {},
     "output_type": "execute_result"
    },
    {
     "data": {
      "image/png": "[encoded data removed]",
      "text/plain": [
       "<Figure size 800x600 with 2 Axes>"
      ]
     },
     "metadata": {},
     "output_type": "display_data"
    }
   ],
   "source": [
    "# Model evaluation \n",
    "accuracy = accuracy_score(y_test, y_predd)\n",
    "print(f\"Accuracy: {accuracy * 100:.2f}%\")\n",
    "\n",
    "cm = confusion_matrix(y_test, y_predd)\n",
    "print(\"\\nConfusion Matrix:\\n\", cm)\n",
    "\n",
    "cr = classification_report(y_test, y_predd)\n",
    "print(\"\\nClassification Report:\\n\", cr)\n",
    "\n",
    "plt.figure(figsize=(8, 6))\n",
    "sns.heatmap(cm, annot=True, fmt='d', cmap='Blues', \n",
    "                xticklabels=['Negative', 'Positive'],\n",
    "                yticklabels=['Negative', 'Positive'])\n",
    "plt.xlabel('Predicted')\n",
    "plt.ylabel('Actual')\n",
    "plt.title(f'Confusion Matrix')"
   ]
  },
  {
   "cell_type": "code",
   "execution_count": 54,
   "id": "0f253a28-d02e-4bed-9097-88a662244720",
   "metadata": {},
   "outputs": [
    {
     "name": "stdout",
     "output_type": "stream",
     "text": [
      "Model saved successfully as 'final_model.pkl'\n"
     ]
    }
   ],
   "source": [
    "import joblib\n",
    "\n",
    "best_model = lr_model\n",
    "joblib.dump(best_model, \"final_model.pkl\")\n",
    "\n",
    "print(\"Model saved successfully as 'final_model.pkl'\")"
   ]
  },
  {
   "cell_type": "code",
   "execution_count": 55,
   "id": "07eced37-ce6b-4f43-916d-8617c3601a54",
   "metadata": {},
   "outputs": [
    {
     "name": "stdout",
     "output_type": "stream",
     "text": [
      "tfidf.pkl saved successfully as 'tfidf.pkl'\n"
     ]
    }
   ],
   "source": [
    "joblib.dump(tfidf, 'tfidf.pkl')\n",
    "print(\"tfidf.pkl saved successfully as 'tfidf.pkl'\")"
   ]
  },
  {
   "cell_type": "code",
   "execution_count": 56,
   "id": "e6176a54-bbeb-43f1-bb53-f13ec9daa23d",
   "metadata": {},
   "outputs": [
    {
     "name": "stdin",
     "output_type": "stream",
     "text": [
      "Enter your review:  Buyer beware: This is a self-published book\n"
     ]
    },
    {
     "name": "stdout",
     "output_type": "stream",
     "text": [
      "Negative\n"
     ]
    }
   ],
   "source": [
    "user_review = input(\"Enter your review: \")\n",
    "\n",
    "tokens = preprocess_text(user_review)\n",
    "\n",
    "# Convert tokens to weighted document vector\n",
    "vector = document_vector_weighted(tokens, w2v_model, word2weight).reshape(1, -1)\n",
    "\n",
    "# Predict sentiment\n",
    "prediction = lr_model.predict(vector)\n",
    "\n",
    "print(\"Positive\" if prediction[0] == 1 else \"Negative\")"
   ]
  },
  {
   "cell_type": "code",
   "execution_count": null,
   "id": "9b3034a4-ad81-4881-b194-8e312b774246",
   "metadata": {},
   "outputs": [],
   "source": []
  },
  {
   "cell_type": "markdown",
   "id": "b48c3c30-140d-4733-81da-eb090cde4b3a",
   "metadata": {},
   "source": [
    "<h3><em>🗑️ Garbage Collection Note</em></h3>\n",
    "\n",
    "Python automatically frees memory for objects that are no longer referenced,  \n",
    "but with **very large datasets** (millions of rows) or **big embeddings**,  \n",
    "temporary objects like intermediate DataFrames or arrays may linger in RAM.\n",
    "\n",
    "<h4><em>🔹 Why explicitly use `gc.collect()`</em></h4>\n",
    "\n",
    "1. Immediately frees memory of unused objects.  \n",
    "2. Helps prevent **MemoryErrors** or slowdowns during memory-heavy operations,  \n",
    "   e.g., Word2Vec training or stacking large NumPy arrays.  \n",
    "3. Especially useful on RAM-constrained machines (like an **8 GB laptop**).\n",
    "\n",
    "💡 **Tip:** Call `gc.collect()` after major intermediate steps to keep memory usage low."
   ]
  },
  {
   "cell_type": "code",
   "execution_count": null,
   "id": "cf608c22-bd53-43b8-ac6e-0f67db3e4c57",
   "metadata": {},
   "outputs": [],
   "source": []
  }
 ],
 "metadata": {
  "kernelspec": {
   "display_name": "Python 3 (ipykernel)",
   "language": "python",
   "name": "python3"
  },
  "language_info": {
   "codemirror_mode": {
    "name": "ipython",
    "version": 3
   },
   "file_extension": ".py",
   "mimetype": "text/x-python",
   "name": "python",
   "nbconvert_exporter": "python",
   "pygments_lexer": "ipython3",
   "version": "3.10.7"
  }
 },
 "nbformat": 4,
 "nbformat_minor": 5
}
